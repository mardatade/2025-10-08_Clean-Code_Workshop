{
 "cells": [
  {
   "cell_type": "markdown",
   "id": "cab3b07d-be6d-4cb9-a046-3c9f1c9af1fb",
   "metadata": {},
   "source": [
    "# Library"
   ]
  },
  {
   "cell_type": "code",
   "execution_count": null,
   "id": "38a2ea0c-fd9d-403f-ab8e-a92fe9ee4a1b",
   "metadata": {},
   "outputs": [],
   "source": [
    "import xarray as xr\n",
    "import numpy as np"
   ]
  },
  {
   "cell_type": "code",
   "execution_count": null,
   "id": "009c3e68-5657-4922-912c-a48cfa11e0d0",
   "metadata": {},
   "outputs": [],
   "source": [
    "def load_data(dataset, varname, starttime, endtime, depth):\n",
    "    if dataset == \"phy\":\n",
    "        data_file = \"data/cmems_mod_glo_phy-mnstd_my_0.25deg_P1M-m_depth-skip-15_time-1995-1996.nc\"\n",
    "    if dataset == \"bgc\":\n",
    "        data_file = \"data/cmems_mod_glo_bgc_my_0.25deg_P1M-m_depth-skip-15_time-1995-1996.nc\"\n",
    "    \n",
    "    data_set = xr.open_dataset(data_file)\n",
    "    \n",
    "    data_var = data_set[varname]\n",
    "\n",
    "    if \"depth\" in data_var.dims:\n",
    "        data_var_2 = data_var.sel(time=slice(str(starttime), str(endtime))).sel(depth=depth, method=\"nearest\")\n",
    "    else:\n",
    "        data_var_2 = data_var.sel(time=slice(str(starttime), str(endtime)))\n",
    "        \n",
    "    return data_var_2"
   ]
  }
 ],
 "metadata": {
  "kernelspec": {
   "display_name": "Python 3 (ipykernel)",
   "language": "python",
   "name": "python3"
  },
  "language_info": {
   "codemirror_mode": {
    "name": "ipython",
    "version": 3
   },
   "file_extension": ".py",
   "mimetype": "text/x-python",
   "name": "python",
   "nbconvert_exporter": "python",
   "pygments_lexer": "ipython3",
   "version": "3.12.11"
  }
 },
 "nbformat": 4,
 "nbformat_minor": 5
}
